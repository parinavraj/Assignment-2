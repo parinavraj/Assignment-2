{
 "cells": [
  {
   "cell_type": "markdown",
   "id": "516838bf",
   "metadata": {},
   "source": [
    "# Q.1) What are the two values of the Boolean data type? How do you write them?"
   ]
  },
  {
   "cell_type": "raw",
   "id": "05b1e772",
   "metadata": {},
   "source": [
    "Boolean data type have only two value i.e.  either True or False."
   ]
  },
  {
   "cell_type": "code",
   "execution_count": 1,
   "id": "c7d4fb93",
   "metadata": {},
   "outputs": [
    {
     "name": "stdout",
     "output_type": "stream",
     "text": [
      "True\n",
      "False\n",
      "False\n"
     ]
    }
   ],
   "source": [
    "print(10 > 9)\n",
    "print(10 == 9)\n",
    "print(10 < 9)"
   ]
  },
  {
   "cell_type": "code",
   "execution_count": 2,
   "id": "7f22e4c7",
   "metadata": {},
   "outputs": [
    {
     "name": "stdout",
     "output_type": "stream",
     "text": [
      "b is not greater than a\n"
     ]
    }
   ],
   "source": [
    "a = 200\n",
    "b = 33\n",
    "\n",
    "if b > a:\n",
    "    print(\"b is greater than a\")\n",
    "else:\n",
    "    print(\"b is not greater than a\")"
   ]
  },
  {
   "cell_type": "markdown",
   "id": "752ee5c4",
   "metadata": {},
   "source": [
    "# Q.2. What are the three different types of Boolean operators?"
   ]
  },
  {
   "cell_type": "raw",
   "id": "b2ea604d",
   "metadata": {},
   "source": [
    "Three different types of boolean operator are 'AND','OR',and 'NOT'"
   ]
  },
  {
   "cell_type": "markdown",
   "id": "06c8f790",
   "metadata": {},
   "source": [
    "# Q.3. Make a list of each Boolean operator's truth tables (i.e. every possible combination of Boolean values for the operator and what it evaluate )"
   ]
  },
  {
   "cell_type": "raw",
   "id": "5614cc7b",
   "metadata": {},
   "source": [
    "AND Operator                 \n",
    "\n",
    "True and True = True       \n",
    "True and False = False\n",
    "False and True = False\n",
    "False and False = False    \n",
    "\n",
    "Truth Table \n",
    "0 is False , and 1 is True\n",
    "1 1 1\n",
    "1 0 0\n",
    "0 1 0\n",
    "0 0 0\n",
    "\n",
    "OR Operator\n",
    "\n",
    "True and True = True\n",
    "True and False = True\n",
    "False and True = True\n",
    "False and False = False\n",
    "\n",
    "Truth Table\n",
    "0 is False , and 1 is True\n",
    "1 1 1\n",
    "1 0 1\n",
    "0 1 1\n",
    "0 0 0\n",
    "\n",
    "NOT Operator\n",
    "\n",
    "not True = False\n",
    "not False = True\n",
    "\n",
    "Truth Table\n",
    "0 is False , and 1 is True\n",
    "1 0\n",
    "0 1"
   ]
  },
  {
   "cell_type": "markdown",
   "id": "a92f68f9",
   "metadata": {},
   "source": [
    "# Q.4. What are the values of the following expressions?\n",
    "(5 > 4) and (3 == 5)\n",
    "not (5 > 4)\n",
    "(5 > 4) or (3 == 5)\n",
    "not ((5 > 4) or (3 == 5))\n",
    "(True and True) and (True == False)\n",
    "(not False) or (not True)"
   ]
  },
  {
   "cell_type": "code",
   "execution_count": 3,
   "id": "1c86c031",
   "metadata": {},
   "outputs": [
    {
     "name": "stdout",
     "output_type": "stream",
     "text": [
      "True\n"
     ]
    }
   ],
   "source": [
    "print(5 > 4) and (3 == 5)"
   ]
  },
  {
   "cell_type": "code",
   "execution_count": 4,
   "id": "076c0851",
   "metadata": {},
   "outputs": [
    {
     "name": "stdout",
     "output_type": "stream",
     "text": [
      "False\n"
     ]
    }
   ],
   "source": [
    "print(not(5 > 4))"
   ]
  },
  {
   "cell_type": "code",
   "execution_count": 5,
   "id": "ff5bc752",
   "metadata": {},
   "outputs": [
    {
     "name": "stdout",
     "output_type": "stream",
     "text": [
      "True\n"
     ]
    },
    {
     "data": {
      "text/plain": [
       "False"
      ]
     },
     "execution_count": 5,
     "metadata": {},
     "output_type": "execute_result"
    }
   ],
   "source": [
    "print(5 > 4) or (3 == 5)"
   ]
  },
  {
   "cell_type": "code",
   "execution_count": 6,
   "id": "2f906442",
   "metadata": {},
   "outputs": [
    {
     "name": "stdout",
     "output_type": "stream",
     "text": [
      "False\n"
     ]
    }
   ],
   "source": [
    "print(not ((5 > 4) or (3 == 5)))"
   ]
  },
  {
   "cell_type": "code",
   "execution_count": 7,
   "id": "53edbea3",
   "metadata": {},
   "outputs": [
    {
     "name": "stdout",
     "output_type": "stream",
     "text": [
      "True\n"
     ]
    },
    {
     "data": {
      "text/plain": [
       "False"
      ]
     },
     "execution_count": 7,
     "metadata": {},
     "output_type": "execute_result"
    }
   ],
   "source": [
    "print(not False) or (not True)"
   ]
  },
  {
   "cell_type": "markdown",
   "id": "61639b4a",
   "metadata": {},
   "source": [
    "# Q.5. What are the six comparison operators?"
   ]
  },
  {
   "cell_type": "raw",
   "id": "a9575379",
   "metadata": {},
   "source": [
    "# <     - less than\n",
    "<=    - less than or equal\n",
    ">     - greater than\n",
    ">=    - greater than or equal\n",
    "==    - equal to operator\n",
    "!=    - Not equal operator"
   ]
  },
  {
   "cell_type": "markdown",
   "id": "71e962a6",
   "metadata": {},
   "source": [
    "# Q.6. How do you tell the difference between the equal to and assignment operators?Describe a condition and when you would use one."
   ]
  },
  {
   "cell_type": "raw",
   "id": "da75e9df",
   "metadata": {},
   "source": [
    "In boolean we use equal to operator(==) to compare the value, while we use assignment operator to store the value of variable"
   ]
  },
  {
   "cell_type": "code",
   "execution_count": 8,
   "id": "209c73f5",
   "metadata": {},
   "outputs": [
    {
     "name": "stdout",
     "output_type": "stream",
     "text": [
      "False\n"
     ]
    }
   ],
   "source": [
    "# e.g.-\n",
    "# use of Equal To Operator\n",
    "if(2==3):\n",
    "    print(\"True\")\n",
    "else:\n",
    "    print(\"False\")"
   ]
  },
  {
   "cell_type": "code",
   "execution_count": 9,
   "id": "6fd337c0",
   "metadata": {},
   "outputs": [
    {
     "name": "stdout",
     "output_type": "stream",
     "text": [
      "1\n"
     ]
    }
   ],
   "source": [
    "# e.g.-\n",
    "# use of assignment operator\n",
    "c = 1 # we use '=' to store value of c \n",
    "print(c)"
   ]
  },
  {
   "cell_type": "markdown",
   "id": "91dd1c65",
   "metadata": {},
   "source": [
    "# Q.7. Identify the three blocks in this code:"
   ]
  },
  {
   "cell_type": "raw",
   "id": "8c42a443",
   "metadata": {},
   "source": [
    "spam = 0\n",
    "if spam == 10:\n",
    "print('eggs')\n",
    "if spam > 5:\n",
    "print('bacon')\n",
    "else:\n",
    "print('ham')\n",
    "print('spam')\n",
    "print('spam')"
   ]
  },
  {
   "cell_type": "code",
   "execution_count": 10,
   "id": "d07d7043",
   "metadata": {},
   "outputs": [
    {
     "name": "stdout",
     "output_type": "stream",
     "text": [
      "ham\n",
      "spam\n",
      "spam\n"
     ]
    }
   ],
   "source": [
    "spam = 0\n",
    "if spam == 10: # This is the 1st Block\n",
    "    print('eggs')\n",
    "if spam > 5: # This is the the 2nd Block\n",
    "    print('bacon')\n",
    "else: #This is the 3rd Block\n",
    "    print('ham')\n",
    "    print('spam')\n",
    "    print('spam')"
   ]
  },
  {
   "cell_type": "markdown",
   "id": "a1fff940",
   "metadata": {},
   "source": [
    "# Q.8. Write code that prints Hello if 1 is stored in spam, prints Howdy if 2 is stored in spam, and prints Greetings! if anything else is stored in spam."
   ]
  },
  {
   "cell_type": "code",
   "execution_count": 11,
   "id": "9dc0bc34",
   "metadata": {},
   "outputs": [
    {
     "name": "stdout",
     "output_type": "stream",
     "text": [
      "Type a number6\n",
      "Greetings!\n"
     ]
    }
   ],
   "source": [
    "spam = int(input(\"Type a number\"))\n",
    "if spam == 1:\n",
    "    print(\"Hello\")\n",
    "elif spam ==2:\n",
    "    print(\"Howdy\")\n",
    "else:\n",
    "    print(\"Greetings!\")"
   ]
  },
  {
   "cell_type": "markdown",
   "id": "6b3a68fe",
   "metadata": {},
   "source": [
    "# Q.9.If your programme is stuck in an endless loop, what keys you’ll press?"
   ]
  },
  {
   "cell_type": "raw",
   "id": "2de25e89",
   "metadata": {},
   "source": [
    "ctrl+c"
   ]
  },
  {
   "cell_type": "markdown",
   "id": "0b7e232a",
   "metadata": {},
   "source": [
    "# Q.10. How can you tell the difference between break and continue?"
   ]
  },
  {
   "cell_type": "raw",
   "id": "08949f0d",
   "metadata": {},
   "source": [
    "The main difference between both the statements is that when break keyword comes, it terminates the execution of the current loop and passes the control over the next loop or main body, whereas when continue keyword is encountered, it skips the current iteration and executes the very next iteration in the loop.\n",
    "\n",
    "In simple words break statement leaves a loop, whereas the continue statement jumps to the next iteration."
   ]
  },
  {
   "cell_type": "code",
   "execution_count": 12,
   "id": "b435a99d",
   "metadata": {},
   "outputs": [
    {
     "name": "stdout",
     "output_type": "stream",
     "text": [
      "0\n",
      "1\n",
      "2\n",
      "3\n",
      "4\n",
      "5\n",
      "6\n",
      "7\n",
      "8\n",
      "9\n"
     ]
    }
   ],
   "source": [
    "# use of break\n",
    "for i in range(50):\n",
    "    if(i==10):\n",
    "        break\n",
    "    print(i)"
   ]
  },
  {
   "cell_type": "code",
   "execution_count": 13,
   "id": "3b462719",
   "metadata": {},
   "outputs": [
    {
     "name": "stdout",
     "output_type": "stream",
     "text": [
      "0\n",
      "1\n",
      "2\n",
      "3\n",
      "4\n",
      "5\n",
      "6\n",
      "7\n",
      "8\n",
      "9\n",
      "11\n",
      "12\n",
      "13\n",
      "14\n"
     ]
    }
   ],
   "source": [
    "#use of  continue\n",
    "for i in range(15):\n",
    "    if(i==10):\n",
    "        continue\n",
    "    print(i)"
   ]
  },
  {
   "cell_type": "markdown",
   "id": "c5331c6d",
   "metadata": {},
   "source": [
    "# Q.11. In a for loop, what is the difference between range(10), range(0, 10), and range(0, 10, 1)?"
   ]
  },
  {
   "cell_type": "code",
   "execution_count": 14,
   "id": "2e6122f1",
   "metadata": {},
   "outputs": [
    {
     "name": "stdout",
     "output_type": "stream",
     "text": [
      "0\n",
      "1\n",
      "2\n",
      "3\n",
      "4\n",
      "5\n",
      "6\n",
      "7\n",
      "8\n",
      "9\n"
     ]
    }
   ],
   "source": [
    "for i in range(10): #use of range(10)\n",
    "    print(i)\n",
    " # in this reange function we input we want value upto 10 , it itsef itrate from 0 ."
   ]
  },
  {
   "cell_type": "code",
   "execution_count": 15,
   "id": "90536fb3",
   "metadata": {},
   "outputs": [
    {
     "name": "stdout",
     "output_type": "stream",
     "text": [
      "0\n",
      "1\n",
      "2\n",
      "3\n",
      "4\n",
      "5\n",
      "6\n",
      "7\n",
      "8\n",
      "9\n"
     ]
    }
   ],
   "source": [
    "for i in range(0,10): #use of range(0, 10)\n",
    "    print(i)\n",
    "# in this range function we input the that we want the value between 0 to 10"
   ]
  },
  {
   "cell_type": "code",
   "execution_count": 16,
   "id": "9d11e733",
   "metadata": {},
   "outputs": [
    {
     "name": "stdout",
     "output_type": "stream",
     "text": [
      "0\n",
      "1\n",
      "2\n",
      "3\n",
      "4\n",
      "5\n",
      "6\n",
      "7\n",
      "8\n",
      "9\n"
     ]
    }
   ],
   "source": [
    "for i in range(0,10,1): # use of range (0,10,1)\n",
    "    print(i)\n",
    "# in this range function we input we want value between 0 to 10 but itrate one by one  by adding 1 in each loop ."
   ]
  },
  {
   "cell_type": "markdown",
   "id": "e3b2f2b4",
   "metadata": {},
   "source": [
    "# Q .12. Write a short program that prints the numbers 1 to 10 using a for loop. Then write an equivalent program that prints the numbers 1 to 10 using a while loop."
   ]
  },
  {
   "cell_type": "code",
   "execution_count": 17,
   "id": "81cd64ca",
   "metadata": {},
   "outputs": [
    {
     "name": "stdout",
     "output_type": "stream",
     "text": [
      "1\n",
      "2\n",
      "3\n",
      "4\n",
      "5\n",
      "6\n",
      "7\n",
      "8\n",
      "9\n",
      "10\n"
     ]
    }
   ],
   "source": [
    "# using for loop\n",
    "for i in range (1,11):\n",
    "    print(i)"
   ]
  },
  {
   "cell_type": "code",
   "execution_count": 18,
   "id": "1d7e9d09",
   "metadata": {},
   "outputs": [
    {
     "name": "stdout",
     "output_type": "stream",
     "text": [
      "1\n",
      "2\n",
      "3\n",
      "4\n",
      "5\n",
      "6\n",
      "7\n",
      "8\n",
      "9\n",
      "10\n"
     ]
    }
   ],
   "source": [
    "# using while loop\n",
    "p = 1\n",
    "while p <=10:\n",
    "    print(p)\n",
    "    p += 1"
   ]
  },
  {
   "cell_type": "markdown",
   "id": "6d95e9f4",
   "metadata": {},
   "source": [
    "# Q.13. If you had a function named bacon() inside a module named spam, how would you call it after importing spam?"
   ]
  },
  {
   "cell_type": "raw",
   "id": "f0e1e013",
   "metadata": {},
   "source": [
    " This function can be called with spam. bacon()."
   ]
  },
  {
   "cell_type": "code",
   "execution_count": null,
   "id": "74c0ec41",
   "metadata": {},
   "outputs": [],
   "source": []
  }
 ],
 "metadata": {
  "kernelspec": {
   "display_name": "Python 3 (ipykernel)",
   "language": "python",
   "name": "python3"
  },
  "language_info": {
   "codemirror_mode": {
    "name": "ipython",
    "version": 3
   },
   "file_extension": ".py",
   "mimetype": "text/x-python",
   "name": "python",
   "nbconvert_exporter": "python",
   "pygments_lexer": "ipython3",
   "version": "3.9.7"
  }
 },
 "nbformat": 4,
 "nbformat_minor": 5
}
